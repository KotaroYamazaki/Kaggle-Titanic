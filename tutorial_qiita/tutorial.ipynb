{
 "cells": [
  {
   "cell_type": "markdown",
   "metadata": {},
   "source": [
    "## Qiita  Titanic 記事を参考にやってみた\n",
    "### [タイタニック号乗客の生存予測モデルを立ててみる](https://qiita.com/suzumi/items/8ce18bc90c942663d1e6)\n",
    "---"
   ]
  },
  {
   "cell_type": "code",
   "execution_count": 42,
   "metadata": {},
   "outputs": [],
   "source": [
    "import pandas as pd\n",
    "import matplotlib.pyplot as plt\n",
    "%matplotlib inline\n",
    "\n",
    "train = pd.read_csv('../data/train.csv')\n",
    "train.Sex = train.Sex.replace(['male','female'],[0,1]) #性別が扱いづらいので男性0、女性1とする"
   ]
  },
  {
   "cell_type": "code",
   "execution_count": 43,
   "metadata": {},
   "outputs": [],
   "source": [
    "# 欠損値の扱い\n",
    "train[\"Age\"].fillna(train.Age.median(), inplace = True)"
   ]
  },
  {
   "cell_type": "code",
   "execution_count": 68,
   "metadata": {},
   "outputs": [
    {
     "data": {
      "text/plain": [
       "<matplotlib.legend.Legend at 0x1a1b886d90>"
      ]
     },
     "execution_count": 68,
     "metadata": {},
     "output_type": "execute_result"
    },
    {
     "data": {
      "image/png": "[encoded data removed]",
      "text/plain": [
       "<Figure size 432x288 with 1 Axes>"
      ]
     },
     "metadata": {},
     "output_type": "display_data"
    }
   ],
   "source": [
    "# 客室ごとのグレードごとにヒストグラム出力\n",
    "split_data = []\n",
    "for survived in [0,1]:\n",
    "    split_data.append(train[train.Survived == survived])\n",
    "    \n",
    "temp = [i[\"Pclass\"].dropna() for i in split_data]\n",
    "plt.xlabel(\"Pclass(1st, 2nd, 3rd)\")\n",
    "labels = [\"Dead\", \"Survived\"]\n",
    "plt.hist(temp, histtype=\"barstacked\", bins=3, width = 0.5, label = labels)\n",
    "plt.legend()"
   ]
  },
  {
   "cell_type": "markdown",
   "metadata": {},
   "source": [
    "左から一等、二頭、三等でオレンジが生存した人、ブルーが死亡した人の割合が出ている\n",
    "等級が上であるほど生存している割合が高い\n"
   ]
  },
  {
   "cell_type": "code",
   "execution_count": 45,
   "metadata": {},
   "outputs": [
    {
     "data": {
      "text/plain": [
       "([array([ 13.,  13.,   8.,  63.,  80., 191.,  47.,  39.,  30.,  23.,  14.,\n",
       "          11.,  10.,   3.,   4.,   0.]),\n",
       "  array([ 44.,  20.,  19.,  96., 122., 285.,  88.,  67.,  47.,  39.,  24.,\n",
       "          18.,  14.,   3.,   4.,   1.])],\n",
       " array([ 0.42   ,  5.39375, 10.3675 , 15.34125, 20.315  , 25.28875,\n",
       "        30.2625 , 35.23625, 40.21   , 45.18375, 50.1575 , 55.13125,\n",
       "        60.105  , 65.07875, 70.0525 , 75.02625, 80.     ]),\n",
       " <a list of 2 Lists of Patches objects>)"
      ]
     },
     "execution_count": 45,
     "metadata": {},
     "output_type": "execute_result"
    },
    {
     "data": {
      "image/png": "[encoded data removed]",
      "text/plain": [
       "<Figure size 432x288 with 1 Axes>"
      ]
     },
     "metadata": {},
     "output_type": "display_data"
    }
   ],
   "source": [
    "temp = [i[\"Age\"].dropna() for i in split_data]\n",
    "plt.hist(temp, histtype=\"barstacked\", bins=16, width = 4.0)"
   ]
  },
  {
   "cell_type": "markdown",
   "metadata": {},
   "source": [
    "Ageの欠損値を中央値でおいたため真ん中の突出が大きい"
   ]
  },
  {
   "cell_type": "code",
   "execution_count": 46,
   "metadata": {},
   "outputs": [],
   "source": [
    "#年齢が欠損しているデータを除外したデータフレームを作成\n",
    "train_ex_misval = pd.read_csv('../data/train.csv')\n",
    "train_ex_misval = train_ex_misval.dropna()\n",
    "train_ex_misval.Sex = train_ex_misval.Sex.replace(['male','female'],[0,1])\n"
   ]
  },
  {
   "cell_type": "code",
   "execution_count": 47,
   "metadata": {},
   "outputs": [
    {
     "data": {
      "text/plain": [
       "([array([ 2.,  0.,  0.,  4.,  5.,  5.,  3.,  9.,  5., 11.,  4.,  4.,  6.,\n",
       "          1.,  1.,  0.]),\n",
       "  array([ 9.,  1.,  3., 16., 23., 17., 21., 28., 11., 22., 11., 11.,  7.,\n",
       "          1.,  1.,  1.])],\n",
       " array([ 0.92  ,  5.8625, 10.805 , 15.7475, 20.69  , 25.6325, 30.575 ,\n",
       "        35.5175, 40.46  , 45.4025, 50.345 , 55.2875, 60.23  , 65.1725,\n",
       "        70.115 , 75.0575, 80.    ]),\n",
       " <a list of 2 Lists of Patches objects>)"
      ]
     },
     "execution_count": 47,
     "metadata": {},
     "output_type": "execute_result"
    },
    {
     "data": {
      "image/png": "[encoded data removed]",
      "text/plain": [
       "<Figure size 432x288 with 1 Axes>"
      ]
     },
     "metadata": {},
     "output_type": "display_data"
    }
   ],
   "source": [
    "split_data_ex = []\n",
    "for survived in [0,1]:\n",
    "    split_data_ex.append(train_ex_misval[train_ex_misval.Survived == survived])\n",
    "temp = [i[\"Age\"].dropna() for i in split_data_ex]\n",
    "plt.hist(temp, histtype=\"barstacked\", bins=16, width = 4)"
   ]
  },
  {
   "cell_type": "markdown",
   "metadata": {},
   "source": [
    "記事と少し結果が違うけど除外の仕方あってる？"
   ]
  },
  {
   "cell_type": "markdown",
   "metadata": {},
   "source": [
    "- - -  \n",
    "## ・データ整形\n",
    "### 仮定: ５人以上の家族は生存率が低い？\n",
    "### アプローチ: 家族の人数用の変数を用意して学習に利用"
   ]
  },
  {
   "cell_type": "code",
   "execution_count": 48,
   "metadata": {},
   "outputs": [
    {
     "name": "stdout",
     "output_type": "stream",
     "text": [
      "     PassengerId  Survived  Pclass  Sex   Age  FamilySize\n",
      "0              1         0       3    0  22.0           2\n",
      "1              2         1       1    1  38.0           2\n",
      "2              3         1       3    1  26.0           1\n",
      "3              4         1       1    1  35.0           2\n",
      "4              5         0       3    0  35.0           1\n",
      "5              6         0       3    0  28.0           1\n",
      "6              7         0       1    0  54.0           1\n",
      "7              8         0       3    0   2.0           5\n",
      "8              9         1       3    1  27.0           3\n",
      "9             10         1       2    1  14.0           2\n",
      "10            11         1       3    1   4.0           3\n",
      "11            12         1       1    1  58.0           1\n",
      "12            13         0       3    0  20.0           1\n",
      "13            14         0       3    0  39.0           7\n",
      "14            15         0       3    1  14.0           1\n",
      "15            16         1       2    1  55.0           1\n",
      "16            17         0       3    0   2.0           6\n",
      "17            18         1       2    0  28.0           1\n",
      "18            19         0       3    1  31.0           2\n",
      "19            20         1       3    1  28.0           1\n",
      "20            21         0       2    0  35.0           1\n",
      "21            22         1       2    0  34.0           1\n",
      "22            23         1       3    1  15.0           1\n",
      "23            24         1       1    0  28.0           1\n",
      "24            25         0       3    1   8.0           5\n",
      "25            26         1       3    1  38.0           7\n",
      "26            27         0       3    0  28.0           1\n",
      "27            28         0       1    0  19.0           6\n",
      "28            29         1       3    1  28.0           1\n",
      "29            30         0       3    0  28.0           1\n",
      "..           ...       ...     ...  ...   ...         ...\n",
      "861          862         0       2    0  21.0           2\n",
      "862          863         1       1    1  48.0           1\n",
      "863          864         0       3    1  28.0          11\n",
      "864          865         0       2    0  24.0           1\n",
      "865          866         1       2    1  42.0           1\n",
      "866          867         1       2    1  27.0           2\n",
      "867          868         0       1    0  31.0           1\n",
      "868          869         0       3    0  28.0           1\n",
      "869          870         1       3    0   4.0           3\n",
      "870          871         0       3    0  26.0           1\n",
      "871          872         1       1    1  47.0           3\n",
      "872          873         0       1    0  33.0           1\n",
      "873          874         0       3    0  47.0           1\n",
      "874          875         1       2    1  28.0           2\n",
      "875          876         1       3    1  15.0           1\n",
      "876          877         0       3    0  20.0           1\n",
      "877          878         0       3    0  19.0           1\n",
      "878          879         0       3    0  28.0           1\n",
      "879          880         1       1    1  56.0           2\n",
      "880          881         1       2    1  25.0           2\n",
      "881          882         0       3    0  33.0           1\n",
      "882          883         0       3    1  22.0           1\n",
      "883          884         0       2    0  28.0           1\n",
      "884          885         0       3    0  25.0           1\n",
      "885          886         0       3    1  39.0           6\n",
      "886          887         0       2    0  27.0           1\n",
      "887          888         1       1    1  19.0           1\n",
      "888          889         0       3    1  28.0           4\n",
      "889          890         1       1    0  26.0           1\n",
      "890          891         0       3    0  32.0           1\n",
      "\n",
      "[891 rows x 6 columns]\n"
     ]
    },
    {
     "data": {
      "text/plain": [
       "PassengerId      int64\n",
       "Survived         int64\n",
       "Pclass           int64\n",
       "Sex              int64\n",
       "Age            float64\n",
       "FamilySize       int64\n",
       "dtype: object"
      ]
     },
     "execution_count": 48,
     "metadata": {},
     "output_type": "execute_result"
    }
   ],
   "source": [
    "#新たなカラムFamilySizeを用意(Sibsp... 乗船している夫婦、兄弟姉妹の数, Parch...乗船している親、子供の数)\n",
    "train[\"FamilySize\"] = train[\"SibSp\"] + train[\"Parch\"] + 1\n",
    "train_fm = train.drop([\"Name\", \"SibSp\", \"Parch\", \"Ticket\", \"Fare\", \"Cabin\", \"Embarked\"], axis=1)\n",
    "print(train_fm)\n",
    "train_fm.dtypes"
   ]
  },
  {
   "cell_type": "markdown",
   "metadata": {},
   "source": [
    "---\n",
    "# ・実際に学習させてみる\n",
    "## アプローチ: \n",
    "### Python機械学習ライブラリのScikit-learn からRandomForestClassifierを使って決定木を作成し予測する\n",
    " 学習データとして必要なのはPclass以降変数であるため分離する。\n",
    " 生存結果であるSuevivedは正解データとする"
   ]
  },
  {
   "cell_type": "code",
   "execution_count": 49,
   "metadata": {},
   "outputs": [],
   "source": [
    "train_data = train_fm.values\n",
    "xs = train_data[:, 2:] #Pclass以降の変数\n",
    "y = train_data[:, 1] #正解データ"
   ]
  },
  {
   "cell_type": "markdown",
   "metadata": {},
   "source": [
    "実際に学習させて予測モデルを作る\n",
    "そしてtesc.csvもtrain.csv同様に整形"
   ]
  },
  {
   "cell_type": "code",
   "execution_count": 11,
   "metadata": {},
   "outputs": [],
   "source": [
    "from sklearn.ensemble import RandomForestClassifier\n",
    "forest = RandomForestClassifier(n_estimators = 100) # 決定木の数: 100\n",
    "\n",
    "#学習\n",
    "forest = forest.fit(xs, y)\n",
    "\n",
    "test_df = pd.read_csv(\"../data/test.csv\").replace([\"male\",\"female\"],[0,1])\n",
    "\n",
    "#欠損値の補完\n",
    "test_df[\"Age\"].fillna(train.Age.median(), inplace=True)\n",
    "test_df[\"FamilySize\"] = train[\"SibSp\"] + train[\"Parch\"] + 1\n",
    "test_df_arranged = test_df.drop([\"Name\", \"SibSp\", \"Parch\", \"Ticket\", \"Fare\", \"Cabin\", \"Embarked\"], axis=1)"
   ]
  },
  {
   "cell_type": "code",
   "execution_count": 12,
   "metadata": {},
   "outputs": [
    {
     "name": "stdout",
     "output_type": "stream",
     "text": [
      "(418, 418)\n"
     ]
    }
   ],
   "source": [
    "test_data = test_df_arranged.values\n",
    "xs_test = test_data[:, 1:]\n",
    "output = forest.predict(xs_test)\n",
    "\n",
    "print(len(test_data[:,0]), len(output))\n",
    "zip_data = zip(test_data[:,0].astype(int), output.astype(int))\n",
    "predict_data = list(zip_data)"
   ]
  },
  {
   "cell_type": "markdown",
   "metadata": {},
   "source": [
    "最後にリストをcsvに書き込み"
   ]
  },
  {
   "cell_type": "code",
   "execution_count": 13,
   "metadata": {},
   "outputs": [],
   "source": [
    "import csv\n",
    "with open(\"../result/predict_result_qiita.csv\", \"w\") as f:\n",
    "    writer = csv.writer(f, lineterminator='\\n')\n",
    "    writer.writerow([\"PassengerId\", \"Survived\"])\n",
    "    for pid, survived in zip(test_data[:,0].astype(int), output.astype(int)):\n",
    "        writer.writerow([pid, survived])"
   ]
  },
  {
   "cell_type": "markdown",
   "metadata": {},
   "source": [
    "# ・結果\n",
    "## 0.69856\n",
    "---"
   ]
  },
  {
   "cell_type": "code",
   "execution_count": 14,
   "metadata": {},
   "outputs": [],
   "source": [
    "#dotファイルを出力\n",
    "#from sklearn import tree\n",
    "#for i,val in enumerate(forest.estimators_):\n",
    "#    tree.export_graphviz(forest.estimators_[i], out_file='tree_%d.dot'%i)\n",
    "# >dot -Tpng tree_0.dot -o tree.png"
   ]
  },
  {
   "cell_type": "markdown",
   "metadata": {},
   "source": [
    "## ・treeの表示\n",
    "<img src=\"tree.png\">"
   ]
  },
  {
   "cell_type": "markdown",
   "metadata": {},
   "source": [
    "### 決定木の数を変える"
   ]
  },
  {
   "cell_type": "code",
   "execution_count": 56,
   "metadata": {},
   "outputs": [
    {
     "name": "stdout",
     "output_type": "stream",
     "text": [
      "(418, 418)\n"
     ]
    }
   ],
   "source": [
    "forest = RandomForestClassifier(n_estimators = 10000) # 決定木の数: 100\n",
    "\n",
    "#学習\n",
    "forest = forest.fit(xs, y)\n",
    "\n",
    "output = forest.predict(xs_test)\n",
    "\n",
    "print(len(test_data[:,0]), len(output))\n",
    "zip_data = zip(test_data[:,0].astype(int), output.astype(int))\n",
    "predict_data = list(zip_data)\n",
    "\n",
    "import csv\n",
    "with open(\"../result/predict_result_qiitaP.csv\", \"w\") as f:\n",
    "    writer = csv.writer(f, lineterminator='\\n')\n",
    "    writer.writerow([\"PassengerId\", \"Survived\"])\n",
    "    for pid, survived in zip(test_data[:,0].astype(int), output.astype(int)):\n",
    "        writer.writerow([pid, survived])"
   ]
  },
  {
   "cell_type": "markdown",
   "metadata": {},
   "source": [
    "### 結果\n",
    "* 50: 0.69856\n",
    "* 100: 0.69856 \n",
    "* 300: 0.69856\n",
    "* 1000: 0.70813\n",
    "* 10000: 0.70334"
   ]
  },
  {
   "cell_type": "code",
   "execution_count": 57,
   "metadata": {},
   "outputs": [
    {
     "ename": "SyntaxError",
     "evalue": "invalid syntax (<ipython-input-57-dc64347b7f4c>, line 1)",
     "output_type": "error",
     "traceback": [
      "\u001b[0;36m  File \u001b[0;32m\"<ipython-input-57-dc64347b7f4c>\"\u001b[0;36m, line \u001b[0;32m1\u001b[0m\n\u001b[0;31m    72まであがるハイパーパラメータ\u001b[0m\n\u001b[0m      ^\u001b[0m\n\u001b[0;31mSyntaxError\u001b[0m\u001b[0;31m:\u001b[0m invalid syntax\n"
     ]
    }
   ],
   "source": [
    "# 72まであがるハイパーパラメータ\n",
    "# forest = RandomForestClassifier(bootstrap=True, class_weight=None, criterion='gini',\n",
    "#             max_depth=25, max_features='auto', max_leaf_nodes=None,\n",
    "#             min_samples_leaf=1, min_samples_split=15,\n",
    "#             min_weight_fraction_leaf=0.0, n_estimators=51, n_jobs=4,\n",
    "#             oob_score=False, random_state=0, verbose=0, warm_start=False)"
   ]
  }
 ],
 "metadata": {
  "kernelspec": {
   "display_name": "Python 2",
   "language": "python",
   "name": "python2"
  },
  "language_info": {
   "codemirror_mode": {
    "name": "ipython",
    "version": 2
   },
   "file_extension": ".py",
   "mimetype": "text/x-python",
   "name": "python",
   "nbconvert_exporter": "python",
   "pygments_lexer": "ipython2",
   "version": "2.7.15"
  }
 },
 "nbformat": 4,
 "nbformat_minor": 2
}
