{
 "cells": [
  {
   "cell_type": "markdown",
   "metadata": {},
   "source": [
    "## やってみた\n",
    "### Qiitaより[タイタニック号乗客の生存予測モデルを立ててみる](https://qiita.com/suzumi/items/8ce18bc90c942663d1e6)\n"
   ]
  },
  {
   "cell_type": "code",
   "execution_count": 91,
   "metadata": {},
   "outputs": [],
   "source": [
    "import pandas as pd\n",
    "import matplotlib.pyplot as plt\n",
    "%matplotlib inline\n",
    "\n",
    "train = pd.read_csv('./data/train.csv')\n",
    "train.Sex = train.Sex.replace(['male','female'],[0,1]) #性別が扱いづらいので男性0、女性1とする"
   ]
  },
  {
   "cell_type": "code",
   "execution_count": 92,
   "metadata": {},
   "outputs": [],
   "source": [
    "# 欠損値の扱い\n",
    "train[\"Age\"].fillna(train.Age.median(), inplace = True)"
   ]
  },
  {
   "cell_type": "code",
   "execution_count": 93,
   "metadata": {},
   "outputs": [
    {
     "data": {
      "text/plain": [
       "([array([ 80.,  97., 372.]), array([216., 184., 491.])],\n",
       " array([1.        , 1.66666667, 2.33333333, 3.        ]),\n",
       " <a list of 2 Lists of Patches objects>)"
      ]
     },
     "execution_count": 93,
     "metadata": {},
     "output_type": "execute_result"
    },
    {
     "data": {
      "image/png": "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\n",
      "text/plain": [
       "<Figure size 432x288 with 1 Axes>"
      ]
     },
     "metadata": {},
     "output_type": "display_data"
    }
   ],
   "source": [
    "# 客室ごとのグレードごとにヒストグラム出力\n",
    "split_data = []\n",
    "for survived in [0,1]:\n",
    "    split_data.append(train[train.Survived == survived])\n",
    "    \n",
    "temp = [i[\"Pclass\"].dropna() for i in split_data]\n",
    "plt.hist(temp, histtype=\"barstacked\", bins=3, width = 0.5)"
   ]
  },
  {
   "cell_type": "markdown",
   "metadata": {},
   "source": [
    "左から一等、二頭、三等でオレンジが生存した人、ブルーが死亡した人の割合が出ている\n",
    "東急が上であるほど生存している割合が高い\n"
   ]
  },
  {
   "cell_type": "code",
   "execution_count": 94,
   "metadata": {},
   "outputs": [
    {
     "data": {
      "text/plain": [
       "([array([ 13.,  13.,   8.,  63.,  80., 191.,  47.,  39.,  30.,  23.,  14.,\n",
       "          11.,  10.,   3.,   4.,   0.]),\n",
       "  array([ 44.,  20.,  19.,  96., 122., 285.,  88.,  67.,  47.,  39.,  24.,\n",
       "          18.,  14.,   3.,   4.,   1.])],\n",
       " array([ 0.42   ,  5.39375, 10.3675 , 15.34125, 20.315  , 25.28875,\n",
       "        30.2625 , 35.23625, 40.21   , 45.18375, 50.1575 , 55.13125,\n",
       "        60.105  , 65.07875, 70.0525 , 75.02625, 80.     ]),\n",
       " <a list of 2 Lists of Patches objects>)"
      ]
     },
     "execution_count": 94,
     "metadata": {},
     "output_type": "execute_result"
    },
    {
     "data": {
      "image/png": "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\n",
      "text/plain": [
       "<Figure size 432x288 with 1 Axes>"
      ]
     },
     "metadata": {},
     "output_type": "display_data"
    }
   ],
   "source": [
    "temp = [i[\"Age\"].dropna() for i in split_data]\n",
    "plt.hist(temp, histtype=\"barstacked\", bins=16, width = 4.0)"
   ]
  },
  {
   "cell_type": "markdown",
   "metadata": {},
   "source": [
    "Ageの欠損値を中央値でおいたため真ん中の突出が大きい"
   ]
  },
  {
   "cell_type": "code",
<<<<<<< HEAD
   "execution_count": 95,
   "metadata": {},
   "outputs": [
    {
     "ename": "IOError",
     "evalue": "File ../data/train.csv does not exist",
     "output_type": "error",
     "traceback": [
      "\u001b[0;31m---------------------------------------------------------------------------\u001b[0m",
      "\u001b[0;31mIOError\u001b[0m                                   Traceback (most recent call last)",
      "\u001b[0;32m<ipython-input-95-18a3008209c1>\u001b[0m in \u001b[0;36m<module>\u001b[0;34m()\u001b[0m\n\u001b[1;32m      1\u001b[0m \u001b[0;31m#年齢が欠損しているデータを除外したデータフレームを作成\u001b[0m\u001b[0;34m\u001b[0m\u001b[0;34m\u001b[0m\u001b[0m\n\u001b[0;32m----> 2\u001b[0;31m \u001b[0mtrain_ex_misval\u001b[0m \u001b[0;34m=\u001b[0m \u001b[0mpd\u001b[0m\u001b[0;34m.\u001b[0m\u001b[0mread_csv\u001b[0m\u001b[0;34m(\u001b[0m\u001b[0;34m'../data/train.csv'\u001b[0m\u001b[0;34m)\u001b[0m\u001b[0;34m\u001b[0m\u001b[0m\n\u001b[0m\u001b[1;32m      3\u001b[0m \u001b[0mtrain_ex_misval\u001b[0m \u001b[0;34m=\u001b[0m \u001b[0mtrain_ex_misval\u001b[0m\u001b[0;34m.\u001b[0m\u001b[0mdropna\u001b[0m\u001b[0;34m(\u001b[0m\u001b[0;34m)\u001b[0m\u001b[0;34m\u001b[0m\u001b[0m\n\u001b[1;32m      4\u001b[0m \u001b[0mtrain_ex_misval\u001b[0m\u001b[0;34m.\u001b[0m\u001b[0mSex\u001b[0m \u001b[0;34m=\u001b[0m \u001b[0mtrain_ex_misval\u001b[0m\u001b[0;34m.\u001b[0m\u001b[0mSex\u001b[0m\u001b[0;34m.\u001b[0m\u001b[0mreplace\u001b[0m\u001b[0;34m(\u001b[0m\u001b[0;34m[\u001b[0m\u001b[0;34m'male'\u001b[0m\u001b[0;34m,\u001b[0m\u001b[0;34m'female'\u001b[0m\u001b[0;34m]\u001b[0m\u001b[0;34m,\u001b[0m\u001b[0;34m[\u001b[0m\u001b[0;36m0\u001b[0m\u001b[0;34m,\u001b[0m\u001b[0;36m1\u001b[0m\u001b[0;34m]\u001b[0m\u001b[0;34m)\u001b[0m\u001b[0;34m\u001b[0m\u001b[0m\n",
      "\u001b[0;32m/Users/kotaroyamazaki/.pyenv/versions/anaconda2-5.2.0/lib/python2.7/site-packages/pandas/io/parsers.pyc\u001b[0m in \u001b[0;36mparser_f\u001b[0;34m(filepath_or_buffer, sep, delimiter, header, names, index_col, usecols, squeeze, prefix, mangle_dupe_cols, dtype, engine, converters, true_values, false_values, skipinitialspace, skiprows, nrows, na_values, keep_default_na, na_filter, verbose, skip_blank_lines, parse_dates, infer_datetime_format, keep_date_col, date_parser, dayfirst, iterator, chunksize, compression, thousands, decimal, lineterminator, quotechar, quoting, escapechar, comment, encoding, dialect, tupleize_cols, error_bad_lines, warn_bad_lines, skipfooter, doublequote, delim_whitespace, low_memory, memory_map, float_precision)\u001b[0m\n\u001b[1;32m    676\u001b[0m                     skip_blank_lines=skip_blank_lines)\n\u001b[1;32m    677\u001b[0m \u001b[0;34m\u001b[0m\u001b[0m\n\u001b[0;32m--> 678\u001b[0;31m         \u001b[0;32mreturn\u001b[0m \u001b[0m_read\u001b[0m\u001b[0;34m(\u001b[0m\u001b[0mfilepath_or_buffer\u001b[0m\u001b[0;34m,\u001b[0m \u001b[0mkwds\u001b[0m\u001b[0;34m)\u001b[0m\u001b[0;34m\u001b[0m\u001b[0m\n\u001b[0m\u001b[1;32m    679\u001b[0m \u001b[0;34m\u001b[0m\u001b[0m\n\u001b[1;32m    680\u001b[0m     \u001b[0mparser_f\u001b[0m\u001b[0;34m.\u001b[0m\u001b[0m__name__\u001b[0m \u001b[0;34m=\u001b[0m \u001b[0mname\u001b[0m\u001b[0;34m\u001b[0m\u001b[0m\n",
      "\u001b[0;32m/Users/kotaroyamazaki/.pyenv/versions/anaconda2-5.2.0/lib/python2.7/site-packages/pandas/io/parsers.pyc\u001b[0m in \u001b[0;36m_read\u001b[0;34m(filepath_or_buffer, kwds)\u001b[0m\n\u001b[1;32m    438\u001b[0m \u001b[0;34m\u001b[0m\u001b[0m\n\u001b[1;32m    439\u001b[0m     \u001b[0;31m# Create the parser.\u001b[0m\u001b[0;34m\u001b[0m\u001b[0;34m\u001b[0m\u001b[0m\n\u001b[0;32m--> 440\u001b[0;31m     \u001b[0mparser\u001b[0m \u001b[0;34m=\u001b[0m \u001b[0mTextFileReader\u001b[0m\u001b[0;34m(\u001b[0m\u001b[0mfilepath_or_buffer\u001b[0m\u001b[0;34m,\u001b[0m \u001b[0;34m**\u001b[0m\u001b[0mkwds\u001b[0m\u001b[0;34m)\u001b[0m\u001b[0;34m\u001b[0m\u001b[0m\n\u001b[0m\u001b[1;32m    441\u001b[0m \u001b[0;34m\u001b[0m\u001b[0m\n\u001b[1;32m    442\u001b[0m     \u001b[0;32mif\u001b[0m \u001b[0mchunksize\u001b[0m \u001b[0;32mor\u001b[0m \u001b[0miterator\u001b[0m\u001b[0;34m:\u001b[0m\u001b[0;34m\u001b[0m\u001b[0m\n",
      "\u001b[0;32m/Users/kotaroyamazaki/.pyenv/versions/anaconda2-5.2.0/lib/python2.7/site-packages/pandas/io/parsers.pyc\u001b[0m in \u001b[0;36m__init__\u001b[0;34m(self, f, engine, **kwds)\u001b[0m\n\u001b[1;32m    785\u001b[0m             \u001b[0mself\u001b[0m\u001b[0;34m.\u001b[0m\u001b[0moptions\u001b[0m\u001b[0;34m[\u001b[0m\u001b[0;34m'has_index_names'\u001b[0m\u001b[0;34m]\u001b[0m \u001b[0;34m=\u001b[0m \u001b[0mkwds\u001b[0m\u001b[0;34m[\u001b[0m\u001b[0;34m'has_index_names'\u001b[0m\u001b[0;34m]\u001b[0m\u001b[0;34m\u001b[0m\u001b[0m\n\u001b[1;32m    786\u001b[0m \u001b[0;34m\u001b[0m\u001b[0m\n\u001b[0;32m--> 787\u001b[0;31m         \u001b[0mself\u001b[0m\u001b[0;34m.\u001b[0m\u001b[0m_make_engine\u001b[0m\u001b[0;34m(\u001b[0m\u001b[0mself\u001b[0m\u001b[0;34m.\u001b[0m\u001b[0mengine\u001b[0m\u001b[0;34m)\u001b[0m\u001b[0;34m\u001b[0m\u001b[0m\n\u001b[0m\u001b[1;32m    788\u001b[0m \u001b[0;34m\u001b[0m\u001b[0m\n\u001b[1;32m    789\u001b[0m     \u001b[0;32mdef\u001b[0m \u001b[0mclose\u001b[0m\u001b[0;34m(\u001b[0m\u001b[0mself\u001b[0m\u001b[0;34m)\u001b[0m\u001b[0;34m:\u001b[0m\u001b[0;34m\u001b[0m\u001b[0m\n",
      "\u001b[0;32m/Users/kotaroyamazaki/.pyenv/versions/anaconda2-5.2.0/lib/python2.7/site-packages/pandas/io/parsers.pyc\u001b[0m in \u001b[0;36m_make_engine\u001b[0;34m(self, engine)\u001b[0m\n\u001b[1;32m   1012\u001b[0m     \u001b[0;32mdef\u001b[0m \u001b[0m_make_engine\u001b[0m\u001b[0;34m(\u001b[0m\u001b[0mself\u001b[0m\u001b[0;34m,\u001b[0m \u001b[0mengine\u001b[0m\u001b[0;34m=\u001b[0m\u001b[0;34m'c'\u001b[0m\u001b[0;34m)\u001b[0m\u001b[0;34m:\u001b[0m\u001b[0;34m\u001b[0m\u001b[0m\n\u001b[1;32m   1013\u001b[0m         \u001b[0;32mif\u001b[0m \u001b[0mengine\u001b[0m \u001b[0;34m==\u001b[0m \u001b[0;34m'c'\u001b[0m\u001b[0;34m:\u001b[0m\u001b[0;34m\u001b[0m\u001b[0m\n\u001b[0;32m-> 1014\u001b[0;31m             \u001b[0mself\u001b[0m\u001b[0;34m.\u001b[0m\u001b[0m_engine\u001b[0m \u001b[0;34m=\u001b[0m \u001b[0mCParserWrapper\u001b[0m\u001b[0;34m(\u001b[0m\u001b[0mself\u001b[0m\u001b[0;34m.\u001b[0m\u001b[0mf\u001b[0m\u001b[0;34m,\u001b[0m \u001b[0;34m**\u001b[0m\u001b[0mself\u001b[0m\u001b[0;34m.\u001b[0m\u001b[0moptions\u001b[0m\u001b[0;34m)\u001b[0m\u001b[0;34m\u001b[0m\u001b[0m\n\u001b[0m\u001b[1;32m   1015\u001b[0m         \u001b[0;32melse\u001b[0m\u001b[0;34m:\u001b[0m\u001b[0;34m\u001b[0m\u001b[0m\n\u001b[1;32m   1016\u001b[0m             \u001b[0;32mif\u001b[0m \u001b[0mengine\u001b[0m \u001b[0;34m==\u001b[0m \u001b[0;34m'python'\u001b[0m\u001b[0;34m:\u001b[0m\u001b[0;34m\u001b[0m\u001b[0m\n",
      "\u001b[0;32m/Users/kotaroyamazaki/.pyenv/versions/anaconda2-5.2.0/lib/python2.7/site-packages/pandas/io/parsers.pyc\u001b[0m in \u001b[0;36m__init__\u001b[0;34m(self, src, **kwds)\u001b[0m\n\u001b[1;32m   1706\u001b[0m         \u001b[0mkwds\u001b[0m\u001b[0;34m[\u001b[0m\u001b[0;34m'usecols'\u001b[0m\u001b[0;34m]\u001b[0m \u001b[0;34m=\u001b[0m \u001b[0mself\u001b[0m\u001b[0;34m.\u001b[0m\u001b[0musecols\u001b[0m\u001b[0;34m\u001b[0m\u001b[0m\n\u001b[1;32m   1707\u001b[0m \u001b[0;34m\u001b[0m\u001b[0m\n\u001b[0;32m-> 1708\u001b[0;31m         \u001b[0mself\u001b[0m\u001b[0;34m.\u001b[0m\u001b[0m_reader\u001b[0m \u001b[0;34m=\u001b[0m \u001b[0mparsers\u001b[0m\u001b[0;34m.\u001b[0m\u001b[0mTextReader\u001b[0m\u001b[0;34m(\u001b[0m\u001b[0msrc\u001b[0m\u001b[0;34m,\u001b[0m \u001b[0;34m**\u001b[0m\u001b[0mkwds\u001b[0m\u001b[0;34m)\u001b[0m\u001b[0;34m\u001b[0m\u001b[0m\n\u001b[0m\u001b[1;32m   1709\u001b[0m \u001b[0;34m\u001b[0m\u001b[0m\n\u001b[1;32m   1710\u001b[0m         \u001b[0mpassed_names\u001b[0m \u001b[0;34m=\u001b[0m \u001b[0mself\u001b[0m\u001b[0;34m.\u001b[0m\u001b[0mnames\u001b[0m \u001b[0;32mis\u001b[0m \u001b[0mNone\u001b[0m\u001b[0;34m\u001b[0m\u001b[0m\n",
      "\u001b[0;32mpandas/_libs/parsers.pyx\u001b[0m in \u001b[0;36mpandas._libs.parsers.TextReader.__cinit__\u001b[0;34m()\u001b[0m\n",
      "\u001b[0;32mpandas/_libs/parsers.pyx\u001b[0m in \u001b[0;36mpandas._libs.parsers.TextReader._setup_parser_source\u001b[0;34m()\u001b[0m\n",
      "\u001b[0;31mIOError\u001b[0m: File ../data/train.csv does not exist"
     ]
    }
   ],
   "source": [
    "#年齢が欠損しているデータを除外したデータフレームを作成\n",
    "train_ex_misval = pd.read_csv('../data/train.csv')\n",
    "train_ex_misval = train_ex_misval.dropna()\n",
    "train_ex_misval.Sex = train_ex_misval.Sex.replace(['male','female'],[0,1])\n"
   ]
  },
  {
   "cell_type": "code",
   "execution_count": 96,
   "metadata": {},
   "outputs": [
    {
     "data": {
      "text/plain": [
       "([array([ 2.,  0.,  0.,  4.,  5.,  5.,  3.,  9.,  5., 11.,  4.,  4.,  6.,\n",
       "          1.,  1.,  0.]),\n",
       "  array([ 9.,  1.,  3., 16., 23., 17., 21., 28., 11., 22., 11., 11.,  7.,\n",
       "          1.,  1.,  1.])],\n",
       " array([ 0.92  ,  5.8625, 10.805 , 15.7475, 20.69  , 25.6325, 30.575 ,\n",
       "        35.5175, 40.46  , 45.4025, 50.345 , 55.2875, 60.23  , 65.1725,\n",
       "        70.115 , 75.0575, 80.    ]),\n",
       " <a list of 2 Lists of Patches objects>)"
      ]
     },
     "execution_count": 96,
     "metadata": {},
     "output_type": "execute_result"
    },
    {
     "data": {
      "image/png": "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\n",
      "text/plain": [
       "<Figure size 432x288 with 1 Axes>"
      ]
     },
     "metadata": {},
     "output_type": "display_data"
    }
   ],
   "source": [
    "split_data_ex = []\n",
    "for survived in [0,1]:\n",
    "    split_data_ex.append(train_ex_misval[train_ex_misval.Survived == survived])\n",
    "temp = [i[\"Age\"].dropna() for i in split_data_ex]\n",
    "plt.hist(temp, histtype=\"barstacked\", bins=16, width = 4)"
   ]
  },
  {
   "cell_type": "markdown",
   "metadata": {},
   "source": [
    "記事と少し結果が違うけど除外の仕方あってる？"
   ]
  },
  {
   "cell_type": "markdown",
   "metadata": {},
   "source": [
<<<<<<< HEAD
=======
    "- - -  \n",
>>>>>>> origin/master
    "## ・データ整形\n",
    "### 仮定: ５人以上の家族は生存率が低い？\n",
    "### アプローチ: 家族の人数用の変数を用意して学習に利用"
   ]
  },
  {
   "cell_type": "code",
   "execution_count": 97,
   "metadata": {},
   "outputs": [
    {
     "name": "stdout",
     "output_type": "stream",
     "text": [
      "     PassengerId  Survived  Pclass  Sex   Age  FamilySize\n",
      "0              1         0       3    0  22.0           2\n",
      "1              2         1       1    1  38.0           2\n",
      "2              3         1       3    1  26.0           1\n",
      "3              4         1       1    1  35.0           2\n",
      "4              5         0       3    0  35.0           1\n",
      "5              6         0       3    0  28.0           1\n",
      "6              7         0       1    0  54.0           1\n",
      "7              8         0       3    0   2.0           5\n",
      "8              9         1       3    1  27.0           3\n",
      "9             10         1       2    1  14.0           2\n",
      "10            11         1       3    1   4.0           3\n",
      "11            12         1       1    1  58.0           1\n",
      "12            13         0       3    0  20.0           1\n",
      "13            14         0       3    0  39.0           7\n",
      "14            15         0       3    1  14.0           1\n",
      "15            16         1       2    1  55.0           1\n",
      "16            17         0       3    0   2.0           6\n",
      "17            18         1       2    0  28.0           1\n",
      "18            19         0       3    1  31.0           2\n",
      "19            20         1       3    1  28.0           1\n",
      "20            21         0       2    0  35.0           1\n",
      "21            22         1       2    0  34.0           1\n",
      "22            23         1       3    1  15.0           1\n",
      "23            24         1       1    0  28.0           1\n",
      "24            25         0       3    1   8.0           5\n",
      "25            26         1       3    1  38.0           7\n",
      "26            27         0       3    0  28.0           1\n",
      "27            28         0       1    0  19.0           6\n",
      "28            29         1       3    1  28.0           1\n",
      "29            30         0       3    0  28.0           1\n",
      "..           ...       ...     ...  ...   ...         ...\n",
      "861          862         0       2    0  21.0           2\n",
      "862          863         1       1    1  48.0           1\n",
      "863          864         0       3    1  28.0          11\n",
      "864          865         0       2    0  24.0           1\n",
      "865          866         1       2    1  42.0           1\n",
      "866          867         1       2    1  27.0           2\n",
      "867          868         0       1    0  31.0           1\n",
      "868          869         0       3    0  28.0           1\n",
      "869          870         1       3    0   4.0           3\n",
      "870          871         0       3    0  26.0           1\n",
      "871          872         1       1    1  47.0           3\n",
      "872          873         0       1    0  33.0           1\n",
      "873          874         0       3    0  47.0           1\n",
      "874          875         1       2    1  28.0           2\n",
      "875          876         1       3    1  15.0           1\n",
      "876          877         0       3    0  20.0           1\n",
      "877          878         0       3    0  19.0           1\n",
      "878          879         0       3    0  28.0           1\n",
      "879          880         1       1    1  56.0           2\n",
      "880          881         1       2    1  25.0           2\n",
      "881          882         0       3    0  33.0           1\n",
      "882          883         0       3    1  22.0           1\n",
      "883          884         0       2    0  28.0           1\n",
      "884          885         0       3    0  25.0           1\n",
      "885          886         0       3    1  39.0           6\n",
      "886          887         0       2    0  27.0           1\n",
      "887          888         1       1    1  19.0           1\n",
      "888          889         0       3    1  28.0           4\n",
      "889          890         1       1    0  26.0           1\n",
      "890          891         0       3    0  32.0           1\n",
      "\n",
      "[891 rows x 6 columns]\n"
     ]
    },
    {
     "data": {
      "text/plain": [
       "PassengerId      int64\n",
       "Survived         int64\n",
       "Pclass           int64\n",
       "Sex              int64\n",
       "Age            float64\n",
       "FamilySize       int64\n",
       "dtype: object"
      ]
     },
     "execution_count": 97,
     "metadata": {},
     "output_type": "execute_result"
    }
   ],
   "source": [
    "#新たなカラムFamilySizeを用意(Sibsp... 乗船している夫婦、兄弟姉妹の数, Parch...乗船している親、子供の数)\n",
    "train[\"FamilySize\"] = train[\"SibSp\"] + train[\"Parch\"] + 1\n",
    "train_fm = train.drop([\"Name\", \"SibSp\", \"Parch\", \"Ticket\", \"Fare\", \"Cabin\", \"Embarked\"], axis=1)\n",
    "print(train_fm)\n",
    "train_fm.dtypes"
   ]
  },
  {
   "cell_type": "markdown",
   "metadata": {},
   "source": [
    " # ・実際に学習させてみる\n",
    " ## アプローチ: Python機械学習ライブラリのScikit-learn からRandomForestClassifierを使って決定木を作成し予測する\n",
    " 学習データとして必要なのはPclass以降変数であるため分離する。\n",
    " 生存結果であるSuevivedは正解データとする"
   ]
  },
  {
   "cell_type": "code",
   "execution_count": 98,
   "metadata": {},
   "outputs": [],
   "source": [
    "train_data = train_fm.values\n",
    "xs = train_data[:, 2:] #Pclass以降の変数\n",
    "y = train_data[:, 1] #正解データ"
   ]
  },
  {
   "cell_type": "markdown",
   "metadata": {},
   "source": [
    "実際に学習させて予測モデルを作る\n",
    "そしてtesc.csvもtrain.csv同様に整形"
   ]
  },
  {
   "cell_type": "code",
   "execution_count": 99,
   "metadata": {},
   "outputs": [
    {
     "ename": "IOError",
     "evalue": "File ../data/test.csv does not exist",
     "output_type": "error",
     "traceback": [
      "\u001b[0;31m---------------------------------------------------------------------------\u001b[0m",
      "\u001b[0;31mIOError\u001b[0m                                   Traceback (most recent call last)",
      "\u001b[0;32m<ipython-input-99-2ba7aa595937>\u001b[0m in \u001b[0;36m<module>\u001b[0;34m()\u001b[0m\n\u001b[1;32m      5\u001b[0m \u001b[0mforest\u001b[0m \u001b[0;34m=\u001b[0m \u001b[0mforest\u001b[0m\u001b[0;34m.\u001b[0m\u001b[0mfit\u001b[0m\u001b[0;34m(\u001b[0m\u001b[0mxs\u001b[0m\u001b[0;34m,\u001b[0m \u001b[0my\u001b[0m\u001b[0;34m)\u001b[0m\u001b[0;34m\u001b[0m\u001b[0m\n\u001b[1;32m      6\u001b[0m \u001b[0;34m\u001b[0m\u001b[0m\n\u001b[0;32m----> 7\u001b[0;31m \u001b[0mtest_df\u001b[0m \u001b[0;34m=\u001b[0m \u001b[0mpd\u001b[0m\u001b[0;34m.\u001b[0m\u001b[0mread_csv\u001b[0m\u001b[0;34m(\u001b[0m\u001b[0;34m\"../data/test.csv\"\u001b[0m\u001b[0;34m)\u001b[0m\u001b[0;34m.\u001b[0m\u001b[0mreplace\u001b[0m\u001b[0;34m(\u001b[0m\u001b[0;34m[\u001b[0m\u001b[0;34m\"male\"\u001b[0m\u001b[0;34m,\u001b[0m\u001b[0;34m\"female\"\u001b[0m\u001b[0;34m]\u001b[0m\u001b[0;34m,\u001b[0m\u001b[0;34m[\u001b[0m\u001b[0;36m0\u001b[0m\u001b[0;34m,\u001b[0m\u001b[0;36m1\u001b[0m\u001b[0;34m]\u001b[0m\u001b[0;34m)\u001b[0m\u001b[0;34m\u001b[0m\u001b[0m\n\u001b[0m\u001b[1;32m      8\u001b[0m \u001b[0;34m\u001b[0m\u001b[0m\n\u001b[1;32m      9\u001b[0m \u001b[0;31m#欠損値の補完\u001b[0m\u001b[0;34m\u001b[0m\u001b[0;34m\u001b[0m\u001b[0m\n",
      "\u001b[0;32m/Users/kotaroyamazaki/.pyenv/versions/anaconda2-5.2.0/lib/python2.7/site-packages/pandas/io/parsers.pyc\u001b[0m in \u001b[0;36mparser_f\u001b[0;34m(filepath_or_buffer, sep, delimiter, header, names, index_col, usecols, squeeze, prefix, mangle_dupe_cols, dtype, engine, converters, true_values, false_values, skipinitialspace, skiprows, nrows, na_values, keep_default_na, na_filter, verbose, skip_blank_lines, parse_dates, infer_datetime_format, keep_date_col, date_parser, dayfirst, iterator, chunksize, compression, thousands, decimal, lineterminator, quotechar, quoting, escapechar, comment, encoding, dialect, tupleize_cols, error_bad_lines, warn_bad_lines, skipfooter, doublequote, delim_whitespace, low_memory, memory_map, float_precision)\u001b[0m\n\u001b[1;32m    676\u001b[0m                     skip_blank_lines=skip_blank_lines)\n\u001b[1;32m    677\u001b[0m \u001b[0;34m\u001b[0m\u001b[0m\n\u001b[0;32m--> 678\u001b[0;31m         \u001b[0;32mreturn\u001b[0m \u001b[0m_read\u001b[0m\u001b[0;34m(\u001b[0m\u001b[0mfilepath_or_buffer\u001b[0m\u001b[0;34m,\u001b[0m \u001b[0mkwds\u001b[0m\u001b[0;34m)\u001b[0m\u001b[0;34m\u001b[0m\u001b[0m\n\u001b[0m\u001b[1;32m    679\u001b[0m \u001b[0;34m\u001b[0m\u001b[0m\n\u001b[1;32m    680\u001b[0m     \u001b[0mparser_f\u001b[0m\u001b[0;34m.\u001b[0m\u001b[0m__name__\u001b[0m \u001b[0;34m=\u001b[0m \u001b[0mname\u001b[0m\u001b[0;34m\u001b[0m\u001b[0m\n",
      "\u001b[0;32m/Users/kotaroyamazaki/.pyenv/versions/anaconda2-5.2.0/lib/python2.7/site-packages/pandas/io/parsers.pyc\u001b[0m in \u001b[0;36m_read\u001b[0;34m(filepath_or_buffer, kwds)\u001b[0m\n\u001b[1;32m    438\u001b[0m \u001b[0;34m\u001b[0m\u001b[0m\n\u001b[1;32m    439\u001b[0m     \u001b[0;31m# Create the parser.\u001b[0m\u001b[0;34m\u001b[0m\u001b[0;34m\u001b[0m\u001b[0m\n\u001b[0;32m--> 440\u001b[0;31m     \u001b[0mparser\u001b[0m \u001b[0;34m=\u001b[0m \u001b[0mTextFileReader\u001b[0m\u001b[0;34m(\u001b[0m\u001b[0mfilepath_or_buffer\u001b[0m\u001b[0;34m,\u001b[0m \u001b[0;34m**\u001b[0m\u001b[0mkwds\u001b[0m\u001b[0;34m)\u001b[0m\u001b[0;34m\u001b[0m\u001b[0m\n\u001b[0m\u001b[1;32m    441\u001b[0m \u001b[0;34m\u001b[0m\u001b[0m\n\u001b[1;32m    442\u001b[0m     \u001b[0;32mif\u001b[0m \u001b[0mchunksize\u001b[0m \u001b[0;32mor\u001b[0m \u001b[0miterator\u001b[0m\u001b[0;34m:\u001b[0m\u001b[0;34m\u001b[0m\u001b[0m\n",
      "\u001b[0;32m/Users/kotaroyamazaki/.pyenv/versions/anaconda2-5.2.0/lib/python2.7/site-packages/pandas/io/parsers.pyc\u001b[0m in \u001b[0;36m__init__\u001b[0;34m(self, f, engine, **kwds)\u001b[0m\n\u001b[1;32m    785\u001b[0m             \u001b[0mself\u001b[0m\u001b[0;34m.\u001b[0m\u001b[0moptions\u001b[0m\u001b[0;34m[\u001b[0m\u001b[0;34m'has_index_names'\u001b[0m\u001b[0;34m]\u001b[0m \u001b[0;34m=\u001b[0m \u001b[0mkwds\u001b[0m\u001b[0;34m[\u001b[0m\u001b[0;34m'has_index_names'\u001b[0m\u001b[0;34m]\u001b[0m\u001b[0;34m\u001b[0m\u001b[0m\n\u001b[1;32m    786\u001b[0m \u001b[0;34m\u001b[0m\u001b[0m\n\u001b[0;32m--> 787\u001b[0;31m         \u001b[0mself\u001b[0m\u001b[0;34m.\u001b[0m\u001b[0m_make_engine\u001b[0m\u001b[0;34m(\u001b[0m\u001b[0mself\u001b[0m\u001b[0;34m.\u001b[0m\u001b[0mengine\u001b[0m\u001b[0;34m)\u001b[0m\u001b[0;34m\u001b[0m\u001b[0m\n\u001b[0m\u001b[1;32m    788\u001b[0m \u001b[0;34m\u001b[0m\u001b[0m\n\u001b[1;32m    789\u001b[0m     \u001b[0;32mdef\u001b[0m \u001b[0mclose\u001b[0m\u001b[0;34m(\u001b[0m\u001b[0mself\u001b[0m\u001b[0;34m)\u001b[0m\u001b[0;34m:\u001b[0m\u001b[0;34m\u001b[0m\u001b[0m\n",
      "\u001b[0;32m/Users/kotaroyamazaki/.pyenv/versions/anaconda2-5.2.0/lib/python2.7/site-packages/pandas/io/parsers.pyc\u001b[0m in \u001b[0;36m_make_engine\u001b[0;34m(self, engine)\u001b[0m\n\u001b[1;32m   1012\u001b[0m     \u001b[0;32mdef\u001b[0m \u001b[0m_make_engine\u001b[0m\u001b[0;34m(\u001b[0m\u001b[0mself\u001b[0m\u001b[0;34m,\u001b[0m \u001b[0mengine\u001b[0m\u001b[0;34m=\u001b[0m\u001b[0;34m'c'\u001b[0m\u001b[0;34m)\u001b[0m\u001b[0;34m:\u001b[0m\u001b[0;34m\u001b[0m\u001b[0m\n\u001b[1;32m   1013\u001b[0m         \u001b[0;32mif\u001b[0m \u001b[0mengine\u001b[0m \u001b[0;34m==\u001b[0m \u001b[0;34m'c'\u001b[0m\u001b[0;34m:\u001b[0m\u001b[0;34m\u001b[0m\u001b[0m\n\u001b[0;32m-> 1014\u001b[0;31m             \u001b[0mself\u001b[0m\u001b[0;34m.\u001b[0m\u001b[0m_engine\u001b[0m \u001b[0;34m=\u001b[0m \u001b[0mCParserWrapper\u001b[0m\u001b[0;34m(\u001b[0m\u001b[0mself\u001b[0m\u001b[0;34m.\u001b[0m\u001b[0mf\u001b[0m\u001b[0;34m,\u001b[0m \u001b[0;34m**\u001b[0m\u001b[0mself\u001b[0m\u001b[0;34m.\u001b[0m\u001b[0moptions\u001b[0m\u001b[0;34m)\u001b[0m\u001b[0;34m\u001b[0m\u001b[0m\n\u001b[0m\u001b[1;32m   1015\u001b[0m         \u001b[0;32melse\u001b[0m\u001b[0;34m:\u001b[0m\u001b[0;34m\u001b[0m\u001b[0m\n\u001b[1;32m   1016\u001b[0m             \u001b[0;32mif\u001b[0m \u001b[0mengine\u001b[0m \u001b[0;34m==\u001b[0m \u001b[0;34m'python'\u001b[0m\u001b[0;34m:\u001b[0m\u001b[0;34m\u001b[0m\u001b[0m\n",
      "\u001b[0;32m/Users/kotaroyamazaki/.pyenv/versions/anaconda2-5.2.0/lib/python2.7/site-packages/pandas/io/parsers.pyc\u001b[0m in \u001b[0;36m__init__\u001b[0;34m(self, src, **kwds)\u001b[0m\n\u001b[1;32m   1706\u001b[0m         \u001b[0mkwds\u001b[0m\u001b[0;34m[\u001b[0m\u001b[0;34m'usecols'\u001b[0m\u001b[0;34m]\u001b[0m \u001b[0;34m=\u001b[0m \u001b[0mself\u001b[0m\u001b[0;34m.\u001b[0m\u001b[0musecols\u001b[0m\u001b[0;34m\u001b[0m\u001b[0m\n\u001b[1;32m   1707\u001b[0m \u001b[0;34m\u001b[0m\u001b[0m\n\u001b[0;32m-> 1708\u001b[0;31m         \u001b[0mself\u001b[0m\u001b[0;34m.\u001b[0m\u001b[0m_reader\u001b[0m \u001b[0;34m=\u001b[0m \u001b[0mparsers\u001b[0m\u001b[0;34m.\u001b[0m\u001b[0mTextReader\u001b[0m\u001b[0;34m(\u001b[0m\u001b[0msrc\u001b[0m\u001b[0;34m,\u001b[0m \u001b[0;34m**\u001b[0m\u001b[0mkwds\u001b[0m\u001b[0;34m)\u001b[0m\u001b[0;34m\u001b[0m\u001b[0m\n\u001b[0m\u001b[1;32m   1709\u001b[0m \u001b[0;34m\u001b[0m\u001b[0m\n\u001b[1;32m   1710\u001b[0m         \u001b[0mpassed_names\u001b[0m \u001b[0;34m=\u001b[0m \u001b[0mself\u001b[0m\u001b[0;34m.\u001b[0m\u001b[0mnames\u001b[0m \u001b[0;32mis\u001b[0m \u001b[0mNone\u001b[0m\u001b[0;34m\u001b[0m\u001b[0m\n",
      "\u001b[0;32mpandas/_libs/parsers.pyx\u001b[0m in \u001b[0;36mpandas._libs.parsers.TextReader.__cinit__\u001b[0;34m()\u001b[0m\n",
      "\u001b[0;32mpandas/_libs/parsers.pyx\u001b[0m in \u001b[0;36mpandas._libs.parsers.TextReader._setup_parser_source\u001b[0;34m()\u001b[0m\n",
      "\u001b[0;31mIOError\u001b[0m: File ../data/test.csv does not exist"
     ]
    }
   ],
   "source": [
    "from sklearn.ensemble import RandomForestClassifier\n",
    "forest = RandomForestClassifier(n_estimators = 100)\n",
    "\n",
    "#学習\n",
    "forest = forest.fit(xs, y)\n",
    "\n",
    "test_df = pd.read_csv(\"../data/test.csv\").replace([\"male\",\"female\"],[0,1])\n",
    "\n",
    "#欠損値の補完\n",
    "test_df[\"Age\"].fillna(train.Age.median(), inplace=True)\n",
    "test_df[\"FamilySize\"] = train[\"SibSp\"] + train[\"Parch\"] + 1\n",
    "test_df_arranged = test_df.drop([\"Name\", \"SibSp\", \"Parch\", \"Ticket\", \"Fare\", \"Cabin\", \"Embarked\"], axis=1)"
   ]
  },
  {
   "cell_type": "code",
   "execution_count": 100,
   "metadata": {},
   "outputs": [
    {
     "name": "stdout",
     "output_type": "stream",
     "text": [
      "(418, 418)\n"
     ]
    },
    {
     "data": {
      "text/plain": [
       "[(892, 0),\n",
       " (893, 0),\n",
       " (894, 1),\n",
       " (895, 0),\n",
       " (896, 1),\n",
       " (897, 0),\n",
       " (898, 0),\n",
       " (899, 0),\n",
       " (900, 0),\n",
       " (901, 1),\n",
       " (902, 1),\n",
       " (903, 0),\n",
       " (904, 1),\n",
       " (905, 0),\n",
       " (906, 1),\n",
       " (907, 1),\n",
       " (908, 0),\n",
       " (909, 0),\n",
       " (910, 1),\n",
       " (911, 0),\n",
       " (912, 0),\n",
       " (913, 0),\n",
       " (914, 1),\n",
       " (915, 0),\n",
       " (916, 1),\n",
       " (917, 0),\n",
       " (918, 1),\n",
       " (919, 0),\n",
       " (920, 0),\n",
       " (921, 0),\n",
       " (922, 0),\n",
       " (923, 0),\n",
       " (924, 1),\n",
       " (925, 1),\n",
       " (926, 0),\n",
       " (927, 0),\n",
       " (928, 1),\n",
       " (929, 1),\n",
       " (930, 0),\n",
       " (931, 0),\n",
       " (932, 0),\n",
       " (933, 0),\n",
       " (934, 0),\n",
       " (935, 1),\n",
       " (936, 1),\n",
       " (937, 0),\n",
       " (938, 0),\n",
       " (939, 0),\n",
       " (940, 1),\n",
       " (941, 1),\n",
       " (942, 0),\n",
       " (943, 0),\n",
       " (944, 1),\n",
       " (945, 1),\n",
       " (946, 0),\n",
       " (947, 0),\n",
       " (948, 0),\n",
       " (949, 0),\n",
       " (950, 0),\n",
       " (951, 1),\n",
       " (952, 0),\n",
       " (953, 0),\n",
       " (954, 0),\n",
       " (955, 0),\n",
       " (956, 0),\n",
       " (957, 1),\n",
       " (958, 0),\n",
       " (959, 0),\n",
       " (960, 0),\n",
       " (961, 1),\n",
       " (962, 0),\n",
       " (963, 0),\n",
       " (964, 1),\n",
       " (965, 0),\n",
       " (966, 1),\n",
       " (967, 1),\n",
       " (968, 0),\n",
       " (969, 1),\n",
       " (970, 0),\n",
       " (971, 0),\n",
       " (972, 1),\n",
       " (973, 0),\n",
       " (974, 1),\n",
       " (975, 0),\n",
       " (976, 0),\n",
       " (977, 0),\n",
       " (978, 0),\n",
       " (979, 0),\n",
       " (980, 0),\n",
       " (981, 1),\n",
       " (982, 1),\n",
       " (983, 0),\n",
       " (984, 1),\n",
       " (985, 0),\n",
       " (986, 0),\n",
       " (987, 0),\n",
       " (988, 1),\n",
       " (989, 0),\n",
       " (990, 0),\n",
       " (991, 0),\n",
       " (992, 1),\n",
       " (993, 0),\n",
       " (994, 0),\n",
       " (995, 0),\n",
       " (996, 0),\n",
       " (997, 0),\n",
       " (998, 0),\n",
       " (999, 0),\n",
       " (1000, 0),\n",
       " (1001, 0),\n",
       " (1002, 0),\n",
       " (1003, 1),\n",
       " (1004, 1),\n",
       " (1005, 0),\n",
       " (1006, 1),\n",
       " (1007, 0),\n",
       " (1008, 0),\n",
       " (1009, 1),\n",
       " (1010, 0),\n",
       " (1011, 1),\n",
       " (1012, 1),\n",
       " (1013, 0),\n",
       " (1014, 1),\n",
       " (1015, 0),\n",
       " (1016, 0),\n",
       " (1017, 0),\n",
       " (1018, 0),\n",
       " (1019, 1),\n",
       " (1020, 0),\n",
       " (1021, 0),\n",
       " (1022, 1),\n",
       " (1023, 1),\n",
       " (1024, 1),\n",
       " (1025, 0),\n",
       " (1026, 0),\n",
       " (1027, 0),\n",
       " (1028, 0),\n",
       " (1029, 0),\n",
       " (1030, 0),\n",
       " (1031, 0),\n",
       " (1032, 0),\n",
       " (1033, 1),\n",
       " (1034, 0),\n",
       " (1035, 0),\n",
       " (1036, 1),\n",
       " (1037, 0),\n",
       " (1038, 0),\n",
       " (1039, 0),\n",
       " (1040, 0),\n",
       " (1041, 0),\n",
       " (1042, 1),\n",
       " (1043, 0),\n",
       " (1044, 0),\n",
       " (1045, 1),\n",
       " (1046, 0),\n",
       " (1047, 0),\n",
       " (1048, 1),\n",
       " (1049, 0),\n",
       " (1050, 1),\n",
       " (1051, 0),\n",
       " (1052, 1),\n",
       " (1053, 1),\n",
       " (1054, 1),\n",
       " (1055, 0),\n",
       " (1056, 0),\n",
       " (1057, 1),\n",
       " (1058, 1),\n",
       " (1059, 0),\n",
       " (1060, 1),\n",
       " (1061, 1),\n",
       " (1062, 0),\n",
       " (1063, 0),\n",
       " (1064, 0),\n",
       " (1065, 0),\n",
       " (1066, 0),\n",
       " (1067, 1),\n",
       " (1068, 1),\n",
       " (1069, 0),\n",
       " (1070, 1),\n",
       " (1071, 1),\n",
       " (1072, 0),\n",
       " (1073, 1),\n",
       " (1074, 1),\n",
       " (1075, 0),\n",
       " (1076, 1),\n",
       " (1077, 0),\n",
       " (1078, 1),\n",
       " (1079, 0),\n",
       " (1080, 1),\n",
       " (1081, 0),\n",
       " (1082, 0),\n",
       " (1083, 0),\n",
       " (1084, 1),\n",
       " (1085, 0),\n",
       " (1086, 0),\n",
       " (1087, 0),\n",
       " (1088, 0),\n",
       " (1089, 0),\n",
       " (1090, 0),\n",
       " (1091, 1),\n",
       " (1092, 1),\n",
       " (1093, 0),\n",
       " (1094, 0),\n",
       " (1095, 1),\n",
       " (1096, 0),\n",
       " (1097, 0),\n",
       " (1098, 1),\n",
       " (1099, 0),\n",
       " (1100, 1),\n",
       " (1101, 0),\n",
       " (1102, 1),\n",
       " (1103, 0),\n",
       " (1104, 0),\n",
       " (1105, 1),\n",
       " (1106, 0),\n",
       " (1107, 1),\n",
       " (1108, 1),\n",
       " (1109, 0),\n",
       " (1110, 0),\n",
       " (1111, 0),\n",
       " (1112, 1),\n",
       " (1113, 0),\n",
       " (1114, 1),\n",
       " (1115, 0),\n",
       " (1116, 1),\n",
       " (1117, 1),\n",
       " (1118, 0),\n",
       " (1119, 1),\n",
       " (1120, 0),\n",
       " (1121, 0),\n",
       " (1122, 0),\n",
       " (1123, 1),\n",
       " (1124, 0),\n",
       " (1125, 0),\n",
       " (1126, 0),\n",
       " (1127, 0),\n",
       " (1128, 0),\n",
       " (1129, 1),\n",
       " (1130, 1),\n",
       " (1131, 1),\n",
       " (1132, 1),\n",
       " (1133, 1),\n",
       " (1134, 0),\n",
       " (1135, 0),\n",
       " (1136, 0),\n",
       " (1137, 0),\n",
       " (1138, 1),\n",
       " (1139, 0),\n",
       " (1140, 1),\n",
       " (1141, 1),\n",
       " (1142, 1),\n",
       " (1143, 1),\n",
       " (1144, 1),\n",
       " (1145, 0),\n",
       " (1146, 0),\n",
       " (1147, 1),\n",
       " (1148, 0),\n",
       " (1149, 0),\n",
       " (1150, 1),\n",
       " (1151, 1),\n",
       " (1152, 0),\n",
       " (1153, 0),\n",
       " (1154, 1),\n",
       " (1155, 1),\n",
       " (1156, 0),\n",
       " (1157, 0),\n",
       " (1158, 0),\n",
       " (1159, 0),\n",
       " (1160, 1),\n",
       " (1161, 0),\n",
       " (1162, 0),\n",
       " (1163, 0),\n",
       " (1164, 1),\n",
       " (1165, 1),\n",
       " (1166, 0),\n",
       " (1167, 1),\n",
       " (1168, 0),\n",
       " (1169, 0),\n",
       " (1170, 0),\n",
       " (1171, 0),\n",
       " (1172, 0),\n",
       " (1173, 1),\n",
       " (1174, 1),\n",
       " (1175, 1),\n",
       " (1176, 1),\n",
       " (1177, 0),\n",
       " (1178, 0),\n",
       " (1179, 0),\n",
       " (1180, 0),\n",
       " (1181, 0),\n",
       " (1182, 0),\n",
       " (1183, 0),\n",
       " (1184, 0),\n",
       " (1185, 1),\n",
       " (1186, 0),\n",
       " (1187, 0),\n",
       " (1188, 1),\n",
       " (1189, 0),\n",
       " (1190, 0),\n",
       " (1191, 0),\n",
       " (1192, 1),\n",
       " (1193, 0),\n",
       " (1194, 0),\n",
       " (1195, 0),\n",
       " (1196, 1),\n",
       " (1197, 1),\n",
       " (1198, 0),\n",
       " (1199, 1),\n",
       " (1200, 0),\n",
       " (1201, 0),\n",
       " (1202, 0),\n",
       " (1203, 0),\n",
       " (1204, 1),\n",
       " (1205, 0),\n",
       " (1206, 1),\n",
       " (1207, 0),\n",
       " (1208, 0),\n",
       " (1209, 0),\n",
       " (1210, 0),\n",
       " (1211, 0),\n",
       " (1212, 0),\n",
       " (1213, 0),\n",
       " (1214, 0),\n",
       " (1215, 1),\n",
       " (1216, 1),\n",
       " (1217, 0),\n",
       " (1218, 1),\n",
       " (1219, 0),\n",
       " (1220, 0),\n",
       " (1221, 0),\n",
       " (1222, 1),\n",
       " (1223, 0),\n",
       " (1224, 0),\n",
       " (1225, 0),\n",
       " (1226, 0),\n",
       " (1227, 0),\n",
       " (1228, 1),\n",
       " (1229, 0),\n",
       " (1230, 0),\n",
       " (1231, 0),\n",
       " (1232, 0),\n",
       " (1233, 0),\n",
       " (1234, 0),\n",
       " (1235, 1),\n",
       " (1236, 0),\n",
       " (1237, 1),\n",
       " (1238, 0),\n",
       " (1239, 0),\n",
       " (1240, 0),\n",
       " (1241, 1),\n",
       " (1242, 1),\n",
       " (1243, 0),\n",
       " (1244, 0),\n",
       " (1245, 0),\n",
       " (1246, 1),\n",
       " (1247, 1),\n",
       " (1248, 1),\n",
       " (1249, 0),\n",
       " (1250, 0),\n",
       " (1251, 0),\n",
       " (1252, 0),\n",
       " (1253, 1),\n",
       " (1254, 1),\n",
       " (1255, 1),\n",
       " (1256, 1),\n",
       " (1257, 1),\n",
       " (1258, 0),\n",
       " (1259, 1),\n",
       " (1260, 1),\n",
       " (1261, 0),\n",
       " (1262, 0),\n",
       " (1263, 1),\n",
       " (1264, 1),\n",
       " (1265, 0),\n",
       " (1266, 1),\n",
       " (1267, 1),\n",
       " (1268, 1),\n",
       " (1269, 0),\n",
       " (1270, 0),\n",
       " (1271, 1),\n",
       " (1272, 0),\n",
       " (1273, 0),\n",
       " (1274, 1),\n",
       " (1275, 1),\n",
       " (1276, 0),\n",
       " (1277, 1),\n",
       " (1278, 0),\n",
       " (1279, 0),\n",
       " (1280, 0),\n",
       " (1281, 1),\n",
       " (1282, 1),\n",
       " (1283, 0),\n",
       " (1284, 0),\n",
       " (1285, 0),\n",
       " (1286, 1),\n",
       " (1287, 1),\n",
       " (1288, 0),\n",
       " (1289, 1),\n",
       " (1290, 0),\n",
       " (1291, 0),\n",
       " (1292, 1),\n",
       " (1293, 0),\n",
       " (1294, 1),\n",
       " (1295, 0),\n",
       " (1296, 1),\n",
       " (1297, 0),\n",
       " (1298, 0),\n",
       " (1299, 1),\n",
       " (1300, 1),\n",
       " (1301, 0),\n",
       " (1302, 1),\n",
       " (1303, 1),\n",
       " (1304, 1),\n",
       " (1305, 0),\n",
       " (1306, 1),\n",
       " (1307, 0),\n",
       " (1308, 1),\n",
       " (1309, 1)]"
      ]
     },
     "execution_count": 100,
     "metadata": {},
     "output_type": "execute_result"
    }
   ],
   "source": [
    "test_data = test_df_arranged.values\n",
    "xs_test = test_data[:, 1:]\n",
    "output = forest.predict(xs_test)\n",
    "\n",
    "print(len(test_data[:,0]), len(output))\n",
    "zip_data = zip(test_data[:,0].astype(int), output.astype(int))\n",
    "predict_data = list(zip_data)\n",
   ]
  },
  {
   "cell_type": "markdown",
   "metadata": {},
   "source": [
    "最後にリストをcsvに書き込み"
   ]
  },
  {
   "cell_type": "code",
   "execution_count": 102,
   "metadata": {},
   "outputs": [],
   "source": [
    "import csv\n",
    "with open(\"./result/predict_result_qiita.csv\", \"w\") as f:\n",
    "    writer = csv.writer(f, lineterminator='\\n')\n",
    "    writer.writerow([\"PassengerId\", \"Survived\"])\n",
    "    for pid, survived in zip(test_data[:,0].astype(int), output.astype(int)):\n",
    "        writer.writerow([pid, survived])"
   ]
  },
  {
   "cell_type": "markdown",
   "metadata": {},
   "source": [
    "# 結果\n",
    "## Score: 0.69856"
   ]
  },
  {
   "cell_type": "code",
   "execution_count": 103,
   "metadata": {},
   "outputs": [],
   "source": [
    "#dotファイルを出力\n",
    "from sklearn import tree\n",
    "for i,val in enumerate(forest.estimators_):\n",
    "    tree.export_graphviz(forest.estimators_[i], out_file='tree_%d.dot'%i)\n"
   ]
  },
  {
   "cell_type": "code",
   "execution_count": null,
   "metadata": {},
   "outputs": [],
   "source": []
=======
    "#from sklearn import tree\n",
    "#for i,val in enumerate(forest.estimators_):\n",
    "#    tree.export_graphviz(forest.estimators_[i], out_file='tree_%d.dot'%i)\n",
    "# >dot -Tpng tree_0.dot -o tree.png"
   ]
  },
  {
   "cell_type": "markdown",
   "metadata": {},
   "source": [
    "### treeの表示\n",
    "<img src=\"tree.png\">"
   ]
>>>>>>> origin/master
  }
 ],
 "metadata": {
  "kernelspec": {
   "display_name": "Python 2",
   "language": "python",
   "name": "python2"
  },
  "language_info": {
   "codemirror_mode": {
    "name": "ipython",
    "version": 2
   },
   "file_extension": ".py",
   "mimetype": "text/x-python",
   "name": "python",
   "nbconvert_exporter": "python",
   "pygments_lexer": "ipython2",
   "version": "2.7.15"
  }
 },
 "nbformat": 4,
 "nbformat_minor": 2
}
